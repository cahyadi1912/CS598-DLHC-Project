{
  "nbformat": 4,
  "nbformat_minor": 0,
  "metadata": {
    "colab": {
      "name": "LoadMSEData.ipynb",
      "provenance": [],
      "collapsed_sections": [],
      "authorship_tag": "ABX9TyPiZkznQt5xTnSwuVGC7N0T",
      "include_colab_link": true
    },
    "kernelspec": {
      "name": "python3",
      "display_name": "Python 3"
    },
    "language_info": {
      "name": "python"
    }
  },
  "cells": [
    {
      "cell_type": "markdown",
      "metadata": {
        "id": "view-in-github",
        "colab_type": "text"
      },
      "source": [
        "<a href=\"https://colab.research.google.com/github/cahyadi1912/CS598-DLHC-Project/blob/main/LoadMSEData.ipynb\" target=\"_parent\"><img src=\"https://colab.research.google.com/assets/colab-badge.svg\" alt=\"Open In Colab\"/></a>"
      ]
    },
    {
      "cell_type": "code",
      "metadata": {
        "colab": {
          "base_uri": "https://localhost:8080/"
        },
        "id": "pShuKvF0jp98",
        "outputId": "01684027-24f4-4737-aeb8-9dbe1861c4c9"
      },
      "source": [
        "from google.colab import drive\n",
        "drive.mount('/content/drive')"
      ],
      "execution_count": 1,
      "outputs": [
        {
          "output_type": "stream",
          "text": [
            "Mounted at /content/drive\n"
          ],
          "name": "stdout"
        }
      ]
    },
    {
      "cell_type": "code",
      "metadata": {
        "colab": {
          "base_uri": "https://localhost:8080/"
        },
        "id": "G2-P-m-3kEeT",
        "outputId": "71b959b4-0a69-4617-e2f9-60054cad3e75"
      },
      "source": [
        "#import numpy as np\n",
        "#import h5py\n",
        "#f = h5py.File('0ncr.mat','r')\n",
        "#data = f.get('data/variable1')\n",
        "#data = np.array(data) # For converting to a NumPy array\n",
        "\n",
        "\n",
        "import scipy.io\n",
        "mat = scipy.io.loadmat('/content/drive/My Drive/CS 598 DLH Project/MSE Data/0ncr.mat')\n",
        "print(mat)\n",
        "#for (key, value) in mat.items():\n",
        "#    print ('---')\n",
        "#    print (key)\n",
        "#    print (value)\n",
        "    \n",
        "data = mat[\"Data\"]\n",
        "print (data.dtype)\n",
        "print(data[0,0][5])\n",
        "print(len(data[0,0][5]))"
      ],
      "execution_count": 2,
      "outputs": [
        {
          "output_type": "stream",
          "text": [
            "{'__header__': b'MATLAB 5.0 MAT-file, Platform: PCWIN64, Created on: Mon Oct 22 10:26:04 2018', '__version__': '1.0', '__globals__': [], 'Data': array([[(array([[200]], dtype=uint8), array([[21.85545214],\n",
            "       [14.365734  ],\n",
            "       [-8.40458441],\n",
            "       ...,\n",
            "       [12.60356024],\n",
            "       [ 6.25862269],\n",
            "       [-0.02523614]]), array([[26.87070741],\n",
            "       [24.93072495],\n",
            "       [17.5241836 ],\n",
            "       ...,\n",
            "       [-1.56179241],\n",
            "       [-3.1791118 ],\n",
            "       [-3.24610001]]), array([[-12.29871084],\n",
            "       [ -7.62919107],\n",
            "       [ -8.51804349],\n",
            "       ...,\n",
            "       [ 31.18696488],\n",
            "       [ 29.77758597],\n",
            "       [ 28.25347591]]), array([[-3.23537152],\n",
            "       [44.4773109 ],\n",
            "       [81.64244837],\n",
            "       ...,\n",
            "       [23.36075171],\n",
            "       [25.57464678],\n",
            "       [25.77115445]]), array([[0],\n",
            "       [0],\n",
            "       [0],\n",
            "       ...,\n",
            "       [0],\n",
            "       [0],\n",
            "       [0]], dtype=uint8), array([[0],\n",
            "       [0],\n",
            "       [0],\n",
            "       ...,\n",
            "       [0],\n",
            "       [0],\n",
            "       [0]], dtype=uint8), array([[1]], dtype=uint8), array([[0.5]]), array([[480000]], dtype=int32))]],\n",
            "      dtype=[('fs', 'O'), ('eeg_O1', 'O'), ('eeg_O2', 'O'), ('E1', 'O'), ('E2', 'O'), ('labels_O1', 'O'), ('labels_O2', 'O'), ('prec', 'O'), ('half_prec', 'O'), ('num_Labels', 'O')])}\n",
            "[('fs', 'O'), ('eeg_O1', 'O'), ('eeg_O2', 'O'), ('E1', 'O'), ('E2', 'O'), ('labels_O1', 'O'), ('labels_O2', 'O'), ('prec', 'O'), ('half_prec', 'O'), ('num_Labels', 'O')]\n",
            "[[0]\n",
            " [0]\n",
            " [0]\n",
            " ...\n",
            " [0]\n",
            " [0]\n",
            " [0]]\n",
            "480000\n"
          ],
          "name": "stdout"
        }
      ]
    }
  ]
}